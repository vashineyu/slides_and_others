{
 "cells": [
  {
   "cell_type": "code",
   "execution_count": 1,
   "metadata": {},
   "outputs": [],
   "source": [
    "import cv2\n",
    "from PIL import Image\n",
    "import skimage.io as skio\n",
    "\n",
    "import numpy as np\n",
    "import time\n",
    "import os\n",
    "import matplotlib.pyplot as plt\n",
    "\n",
    "np.random.seed(42)"
   ]
  },
  {
   "cell_type": "code",
   "execution_count": 2,
   "metadata": {},
   "outputs": [],
   "source": [
    "def create_images(image_shape=(128,128)):\n",
    "    w,h = image_shape\n",
    "    im_arr = np.random.random((w,h,3)) * 255\n",
    "    return im_arr.astype(\"uint8\")"
   ]
  },
  {
   "cell_type": "code",
   "execution_count": 3,
   "metadata": {
    "scrolled": true
   },
   "outputs": [],
   "source": [
    "NUM_images = 2048\n",
    "IMAGE_SIZE = (256,256)\n",
    "NUM_RUNS = 10\n",
    "\n",
    "try:\n",
    "    os.makedirs(\"./tmp\")\n",
    "except:\n",
    "    pass\n",
    "\n",
    "null = [cv2.imwrite(\"./tmp/img_%s.png\" % str(i).zfill(8), create_images(image_shape=IMAGE_SIZE)) for i in range(NUM_images)]"
   ]
  },
  {
   "cell_type": "code",
   "execution_count": 4,
   "metadata": {},
   "outputs": [],
   "source": [
    "img_list = os.listdir(\"./tmp/\")\n",
    "img_list = [os.path.join(\"./tmp\", i) for i in img_list]"
   ]
  },
  {
   "cell_type": "code",
   "execution_count": 5,
   "metadata": {},
   "outputs": [
    {
     "name": "stdout",
     "output_type": "stream",
     "text": [
      "(2048, 256, 256, 3)\n",
      "Elapse time: 2.4206 seconds\n",
      "(2048, 256, 256, 3)\n",
      "Elapse time: 2.4737 seconds\n",
      "(2048, 256, 256, 3)\n",
      "Elapse time: 2.4909 seconds\n",
      "(2048, 256, 256, 3)\n",
      "Elapse time: 2.5135 seconds\n",
      "(2048, 256, 256, 3)\n",
      "Elapse time: 2.4809 seconds\n",
      "(2048, 256, 256, 3)\n",
      "Elapse time: 3.3768 seconds\n",
      "(2048, 256, 256, 3)\n",
      "Elapse time: 3.0705 seconds\n",
      "(2048, 256, 256, 3)\n",
      "Elapse time: 3.1884 seconds\n",
      "(2048, 256, 256, 3)\n",
      "Elapse time: 2.6361 seconds\n",
      "(2048, 256, 256, 3)\n",
      "Elapse time: 2.5572 seconds\n",
      "Average elapse time: 2.7209\n"
     ]
    }
   ],
   "source": [
    "# Test with cv2\n",
    "time_record = []\n",
    "for _ in range(NUM_RUNS):\n",
    "    start_time = time.time()\n",
    "    arr = [cv2.imread(i)[:,:,::-1] for i in img_list] # convert BGR to RGB\n",
    "    arr = np.array(arr)\n",
    "    print(arr.shape)\n",
    "    end_time = time.time()\n",
    "    print(\"Elapse time: %.4f seconds\" % (end_time - start_time))\n",
    "    time_record.append(end_time-start_time)\n",
    "print(\"Average elapse time: %.4f\" % np.mean(time_record))"
   ]
  },
  {
   "cell_type": "code",
   "execution_count": 6,
   "metadata": {},
   "outputs": [
    {
     "name": "stdout",
     "output_type": "stream",
     "text": [
      "(2048, 256, 256, 3)\n",
      "Using PIL method, elapse time: 2.3506 seconds\n",
      "(2048, 256, 256, 3)\n",
      "Using PIL method, elapse time: 2.3170 seconds\n",
      "(2048, 256, 256, 3)\n",
      "Using PIL method, elapse time: 2.3052 seconds\n",
      "(2048, 256, 256, 3)\n",
      "Using PIL method, elapse time: 2.2899 seconds\n",
      "(2048, 256, 256, 3)\n",
      "Using PIL method, elapse time: 2.8798 seconds\n",
      "(2048, 256, 256, 3)\n",
      "Using PIL method, elapse time: 3.2403 seconds\n",
      "(2048, 256, 256, 3)\n",
      "Using PIL method, elapse time: 2.3723 seconds\n",
      "(2048, 256, 256, 3)\n",
      "Using PIL method, elapse time: 2.5868 seconds\n",
      "(2048, 256, 256, 3)\n",
      "Using PIL method, elapse time: 2.3597 seconds\n",
      "(2048, 256, 256, 3)\n",
      "Using PIL method, elapse time: 2.3032 seconds\n",
      "Average elapse time: 2.5005\n"
     ]
    }
   ],
   "source": [
    "# Test with PIL\n",
    "time_record = []\n",
    "for _ in range(NUM_RUNS):\n",
    "    start_time = time.time()\n",
    "    arr = [np.array(Image.open(i)) for i in img_list]\n",
    "    arr = np.array(arr)\n",
    "    print(arr.shape)\n",
    "    end_time = time.time()\n",
    "    print(\"Using PIL method, elapse time: %.4f seconds\" % (end_time - start_time))\n",
    "    time_record.append(end_time-start_time)\n",
    "print(\"Average elapse time: %.4f\" % np.mean(time_record))"
   ]
  },
  {
   "cell_type": "code",
   "execution_count": 7,
   "metadata": {},
   "outputs": [
    {
     "name": "stdout",
     "output_type": "stream",
     "text": [
      "(2048, 256, 256, 3)\n",
      "Using skimage method, elapse time: 2.4158 seconds\n",
      "(2048, 256, 256, 3)\n",
      "Using skimage method, elapse time: 2.8179 seconds\n",
      "(2048, 256, 256, 3)\n",
      "Using skimage method, elapse time: 2.7071 seconds\n",
      "(2048, 256, 256, 3)\n",
      "Using skimage method, elapse time: 2.3907 seconds\n",
      "(2048, 256, 256, 3)\n",
      "Using skimage method, elapse time: 2.3723 seconds\n",
      "(2048, 256, 256, 3)\n",
      "Using skimage method, elapse time: 3.1663 seconds\n",
      "(2048, 256, 256, 3)\n",
      "Using skimage method, elapse time: 3.0935 seconds\n",
      "(2048, 256, 256, 3)\n",
      "Using skimage method, elapse time: 2.9074 seconds\n",
      "(2048, 256, 256, 3)\n",
      "Using skimage method, elapse time: 2.9103 seconds\n",
      "(2048, 256, 256, 3)\n",
      "Using skimage method, elapse time: 2.6568 seconds\n",
      "Average elapse time: 2.7438\n"
     ]
    }
   ],
   "source": [
    "# Test with Skimage\n",
    "time_record = []\n",
    "for _ in range(NUM_RUNS):\n",
    "    start_time = time.time()\n",
    "    arr = [skio.imread(i) for i in img_list]\n",
    "    arr = np.array(arr)\n",
    "    print(arr.shape)\n",
    "    end_time = time.time()\n",
    "    print(\"Using skimage method, elapse time: %.4f seconds\" % (end_time - start_time))\n",
    "    time_record.append(end_time-start_time)\n",
    "print(\"Average elapse time: %.4f\" % np.mean(time_record))"
   ]
  },
  {
   "cell_type": "code",
   "execution_count": 8,
   "metadata": {},
   "outputs": [],
   "source": [
    "import shutil\n",
    "shutil.rmtree(\"./tmp/\")"
   ]
  }
 ],
 "metadata": {
  "anaconda-cloud": {},
  "kernelspec": {
   "display_name": "Python [conda env:Anaconda3]",
   "language": "python",
   "name": "conda-env-Anaconda3-py"
  },
  "language_info": {
   "codemirror_mode": {
    "name": "ipython",
    "version": 3
   },
   "file_extension": ".py",
   "mimetype": "text/x-python",
   "name": "python",
   "nbconvert_exporter": "python",
   "pygments_lexer": "ipython3",
   "version": "3.5.6"
  }
 },
 "nbformat": 4,
 "nbformat_minor": 1
}
