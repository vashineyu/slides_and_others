{
 "cells": [
  {
   "cell_type": "code",
   "execution_count": 1,
   "metadata": {},
   "outputs": [
    {
     "name": "stderr",
     "output_type": "stream",
     "text": [
      "/home/seanyu/.conda/envs/tf18_keras/lib/python3.6/importlib/_bootstrap.py:219: RuntimeWarning: numpy.dtype size changed, may indicate binary incompatibility. Expected 96, got 88\n",
      "  return f(*args, **kwds)\n"
     ]
    }
   ],
   "source": [
    "import cv2\n",
    "from PIL import Image\n",
    "import skimage.io as skio\n",
    "\n",
    "import numpy as np\n",
    "import time\n",
    "import os\n",
    "import matplotlib.pyplot as plt\n",
    "\n",
    "np.random.seed(42)"
   ]
  },
  {
   "cell_type": "code",
   "execution_count": 2,
   "metadata": {},
   "outputs": [],
   "source": [
    "def create_images(image_shape=(128,128)):\n",
    "    w,h = image_shape\n",
    "    im_arr = np.random.random((w,h,3)) * 255\n",
    "    return im_arr.astype(\"uint8\")"
   ]
  },
  {
   "cell_type": "code",
   "execution_count": 3,
   "metadata": {
    "scrolled": true
   },
   "outputs": [],
   "source": [
    "NUM_images = 10000\n",
    "IMAGE_SIZE = (256,256)\n",
    "NUM_RUNS = 10\n",
    "\n",
    "try:\n",
    "    os.makedirs(\"./tmp\")\n",
    "except:\n",
    "    pass\n",
    "\n",
    "null = [cv2.imwrite(\"./tmp/img_%s.png\" % str(i).zfill(8), create_images(image_shape=IMAGE_SIZE)) for i in range(NUM_images)]"
   ]
  },
  {
   "cell_type": "code",
   "execution_count": 4,
   "metadata": {},
   "outputs": [],
   "source": [
    "img_list = os.listdir(\"./tmp/\")\n",
    "img_list = [os.path.join(\"./tmp\", i) for i in img_list]"
   ]
  },
  {
   "cell_type": "code",
   "execution_count": 5,
   "metadata": {},
   "outputs": [
    {
     "name": "stdout",
     "output_type": "stream",
     "text": [
      "(10000, 256, 256, 3)\n",
      "Elapse time: 7.0378 seconds\n",
      "(10000, 256, 256, 3)\n",
      "Elapse time: 6.6337 seconds\n",
      "(10000, 256, 256, 3)\n",
      "Elapse time: 6.5388 seconds\n",
      "(10000, 256, 256, 3)\n",
      "Elapse time: 6.5713 seconds\n",
      "(10000, 256, 256, 3)\n",
      "Elapse time: 6.4079 seconds\n",
      "(10000, 256, 256, 3)\n",
      "Elapse time: 6.4143 seconds\n",
      "(10000, 256, 256, 3)\n",
      "Elapse time: 6.4222 seconds\n",
      "(10000, 256, 256, 3)\n",
      "Elapse time: 6.5438 seconds\n",
      "(10000, 256, 256, 3)\n",
      "Elapse time: 6.4890 seconds\n",
      "(10000, 256, 256, 3)\n",
      "Elapse time: 6.3936 seconds\n",
      "Average elapse time: 6.5452\n"
     ]
    }
   ],
   "source": [
    "# Test with cv2\n",
    "time_record = []\n",
    "for _ in range(NUM_RUNS):\n",
    "    start_time = time.time()\n",
    "    arr = [cv2.cvtColor(cv2.imread(i),cv2.COLOR_BGR2RGB) for i in img_list] # convert BGR to RGB\n",
    "    arr = np.array(arr)\n",
    "    print(arr.shape)\n",
    "    end_time = time.time()\n",
    "    print(\"Elapse time: %.4f seconds\" % (end_time - start_time))\n",
    "    time_record.append(end_time-start_time)\n",
    "print(\"Average elapse time: %.4f\" % np.mean(time_record))"
   ]
  },
  {
   "cell_type": "code",
   "execution_count": 6,
   "metadata": {},
   "outputs": [
    {
     "name": "stdout",
     "output_type": "stream",
     "text": [
      "(10000, 256, 256, 3)\n",
      "Using PIL method, elapse time: 8.4746 seconds\n",
      "(10000, 256, 256, 3)\n",
      "Using PIL method, elapse time: 8.4754 seconds\n",
      "(10000, 256, 256, 3)\n",
      "Using PIL method, elapse time: 8.3945 seconds\n",
      "(10000, 256, 256, 3)\n",
      "Using PIL method, elapse time: 8.3626 seconds\n",
      "(10000, 256, 256, 3)\n",
      "Using PIL method, elapse time: 8.3357 seconds\n",
      "(10000, 256, 256, 3)\n",
      "Using PIL method, elapse time: 8.3145 seconds\n",
      "(10000, 256, 256, 3)\n",
      "Using PIL method, elapse time: 8.4517 seconds\n",
      "(10000, 256, 256, 3)\n",
      "Using PIL method, elapse time: 8.3689 seconds\n",
      "(10000, 256, 256, 3)\n",
      "Using PIL method, elapse time: 8.4366 seconds\n",
      "(10000, 256, 256, 3)\n",
      "Using PIL method, elapse time: 8.4687 seconds\n",
      "Average elapse time: 8.4083\n"
     ]
    }
   ],
   "source": [
    "# Test with PIL\n",
    "time_record = []\n",
    "for _ in range(NUM_RUNS):\n",
    "    start_time = time.time()\n",
    "    arr = [np.array(Image.open(i)) for i in img_list]\n",
    "    arr = np.array(arr)\n",
    "    print(arr.shape)\n",
    "    end_time = time.time()\n",
    "    print(\"Using PIL method, elapse time: %.4f seconds\" % (end_time - start_time))\n",
    "    time_record.append(end_time-start_time)\n",
    "print(\"Average elapse time: %.4f\" % np.mean(time_record))"
   ]
  },
  {
   "cell_type": "code",
   "execution_count": 7,
   "metadata": {},
   "outputs": [
    {
     "name": "stdout",
     "output_type": "stream",
     "text": [
      "(10000, 256, 256, 3)\n",
      "Using skimage method, elapse time: 8.7287 seconds\n",
      "(10000, 256, 256, 3)\n",
      "Using skimage method, elapse time: 8.7118 seconds\n",
      "(10000, 256, 256, 3)\n",
      "Using skimage method, elapse time: 8.6845 seconds\n",
      "(10000, 256, 256, 3)\n",
      "Using skimage method, elapse time: 8.5794 seconds\n",
      "(10000, 256, 256, 3)\n",
      "Using skimage method, elapse time: 8.7162 seconds\n",
      "(10000, 256, 256, 3)\n",
      "Using skimage method, elapse time: 8.8036 seconds\n",
      "(10000, 256, 256, 3)\n",
      "Using skimage method, elapse time: 8.6767 seconds\n",
      "(10000, 256, 256, 3)\n",
      "Using skimage method, elapse time: 8.6594 seconds\n",
      "(10000, 256, 256, 3)\n",
      "Using skimage method, elapse time: 8.7703 seconds\n",
      "(10000, 256, 256, 3)\n",
      "Using skimage method, elapse time: 8.8142 seconds\n",
      "Average elapse time: 8.7145\n"
     ]
    }
   ],
   "source": [
    "# Test with Skimage\n",
    "time_record = []\n",
    "for _ in range(NUM_RUNS):\n",
    "    start_time = time.time()\n",
    "    arr = [skio.imread(i) for i in img_list]\n",
    "    arr = np.array(arr)\n",
    "    print(arr.shape)\n",
    "    end_time = time.time()\n",
    "    print(\"Using skimage method, elapse time: %.4f seconds\" % (end_time - start_time))\n",
    "    time_record.append(end_time-start_time)\n",
    "print(\"Average elapse time: %.4f\" % np.mean(time_record))"
   ]
  },
  {
   "cell_type": "code",
   "execution_count": 8,
   "metadata": {},
   "outputs": [],
   "source": [
    "import shutil\n",
    "shutil.rmtree(\"./tmp/\")"
   ]
  }
 ],
 "metadata": {
  "anaconda-cloud": {},
  "kernelspec": {
   "display_name": "Python 3",
   "language": "python",
   "name": "python3"
  },
  "language_info": {
   "codemirror_mode": {
    "name": "ipython",
    "version": 3
   },
   "file_extension": ".py",
   "mimetype": "text/x-python",
   "name": "python",
   "nbconvert_exporter": "python",
   "pygments_lexer": "ipython3",
   "version": "3.6.5"
  }
 },
 "nbformat": 4,
 "nbformat_minor": 1
}
